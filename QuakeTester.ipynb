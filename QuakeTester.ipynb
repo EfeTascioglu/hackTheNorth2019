{
  "nbformat": 4,
  "nbformat_minor": 0,
  "metadata": {
    "colab": {
      "name": "QuakeTester.ipynb",
      "version": "0.3.2",
      "provenance": [],
      "collapsed_sections": [],
      "include_colab_link": true
    },
    "kernelspec": {
      "name": "python3",
      "display_name": "Python 3"
    },
    "accelerator": "GPU"
  },
  "cells": [
    {
      "cell_type": "markdown",
      "metadata": {
        "id": "view-in-github",
        "colab_type": "text"
      },
      "source": [
        "<a href=\"https://colab.research.google.com/github/EfeTascioglu/hackTheNorth2019/blob/master/QuakeTester.ipynb\" target=\"_parent\"><img src=\"https://colab.research.google.com/assets/colab-badge.svg\" alt=\"Open In Colab\"/></a>"
      ]
    },
    {
      "cell_type": "code",
      "metadata": {
        "id": "fK7GC5sfVMF5",
        "colab_type": "code",
        "colab": {}
      },
      "source": [
        "import numpy as np\n",
        "import pandas as pd\n",
        "from xgboost import XGBClassifier\n",
        "import math\n",
        "import requests\n",
        "import datetime as dt\n",
        "from datetime import datetime\n",
        "import sklearn as sk\n",
        "from sklearn.model_selection import train_test_split\n",
        "from datetime import datetime"
      ],
      "execution_count": 0,
      "outputs": []
    },
    {
      "cell_type": "code",
      "metadata": {
        "id": "sNe2bCXzqpKP",
        "colab_type": "code",
        "colab": {}
      },
      "source": [
        "from sklearn.model_selection import train_test_split\n",
        "from sklearn.model_selection import KFold\n",
        "from sklearn import preprocessing\n",
        "import matplotlib.pyplot as plt\n",
        "%matplotlib inline"
      ],
      "execution_count": 0,
      "outputs": []
    },
    {
      "cell_type": "code",
      "metadata": {
        "id": "O1ivD32t7Sag",
        "colab_type": "code",
        "colab": {}
      },
      "source": [
        "!wget https://github.com/efetascioglu/hackTheNorth2019/raw/master/query1.csv"
      ],
      "execution_count": 0,
      "outputs": []
    },
    {
      "cell_type": "code",
      "metadata": {
        "id": "Q-cpzBbv8-pB",
        "colab_type": "code",
        "colab": {}
      },
      "source": [
        "df = pd.read_csv('query1.csv') # (Dataframe) "
      ],
      "execution_count": 0,
      "outputs": []
    },
    {
      "cell_type": "code",
      "metadata": {
        "id": "nsmpFHN99DVv",
        "colab_type": "code",
        "colab": {
          "base_uri": "https://localhost:8080/",
          "height": 487
        },
        "outputId": "9c8a8a91-73ba-4ba3-99de-82754d30cca2"
      },
      "source": [
        "df.head()"
      ],
      "execution_count": 141,
      "outputs": [
        {
          "output_type": "execute_result",
          "data": {
            "text/html": [
              "<div>\n",
              "<style scoped>\n",
              "    .dataframe tbody tr th:only-of-type {\n",
              "        vertical-align: middle;\n",
              "    }\n",
              "\n",
              "    .dataframe tbody tr th {\n",
              "        vertical-align: top;\n",
              "    }\n",
              "\n",
              "    .dataframe thead th {\n",
              "        text-align: right;\n",
              "    }\n",
              "</style>\n",
              "<table border=\"1\" class=\"dataframe\">\n",
              "  <thead>\n",
              "    <tr style=\"text-align: right;\">\n",
              "      <th></th>\n",
              "      <th>latitude</th>\n",
              "      <th>longitude</th>\n",
              "      <th>depth</th>\n",
              "      <th>mag</th>\n",
              "      <th>magType</th>\n",
              "      <th>nst</th>\n",
              "      <th>gap</th>\n",
              "      <th>dmin</th>\n",
              "      <th>rms</th>\n",
              "      <th>net</th>\n",
              "      <th>id</th>\n",
              "      <th>updated</th>\n",
              "      <th>place</th>\n",
              "      <th>type</th>\n",
              "      <th>horizontalError</th>\n",
              "      <th>depthError</th>\n",
              "      <th>magError</th>\n",
              "      <th>magNst</th>\n",
              "      <th>status</th>\n",
              "      <th>locationSource</th>\n",
              "      <th>magSource</th>\n",
              "      <th>timeYear</th>\n",
              "      <th>timeMonth</th>\n",
              "      <th>timeWeek</th>\n",
              "      <th>timeDay</th>\n",
              "      <th>timeDayofweek</th>\n",
              "      <th>timeDayofyear</th>\n",
              "      <th>timeIs_month_end</th>\n",
              "      <th>timeIs_month_start</th>\n",
              "      <th>timeIs_quarter_end</th>\n",
              "      <th>timeIs_quarter_start</th>\n",
              "      <th>timeIs_year_end</th>\n",
              "      <th>timeIs_year_start</th>\n",
              "      <th>timeElapsed</th>\n",
              "    </tr>\n",
              "  </thead>\n",
              "  <tbody>\n",
              "    <tr>\n",
              "      <th>0</th>\n",
              "      <td>54.5263</td>\n",
              "      <td>-35.1239</td>\n",
              "      <td>10.00</td>\n",
              "      <td>5.0</td>\n",
              "      <td>mb</td>\n",
              "      <td>NaN</td>\n",
              "      <td>70.0</td>\n",
              "      <td>9.637</td>\n",
              "      <td>1.20</td>\n",
              "      <td>us</td>\n",
              "      <td>us70005gh4</td>\n",
              "      <td>2019-09-14T21:29:19.040Z</td>\n",
              "      <td>Reykjanes Ridge</td>\n",
              "      <td>earthquake</td>\n",
              "      <td>9.4</td>\n",
              "      <td>1.9</td>\n",
              "      <td>0.025</td>\n",
              "      <td>493.0</td>\n",
              "      <td>reviewed</td>\n",
              "      <td>us</td>\n",
              "      <td>us</td>\n",
              "      <td>2019</td>\n",
              "      <td>9</td>\n",
              "      <td>37</td>\n",
              "      <td>14</td>\n",
              "      <td>5</td>\n",
              "      <td>257</td>\n",
              "      <td>False</td>\n",
              "      <td>False</td>\n",
              "      <td>False</td>\n",
              "      <td>False</td>\n",
              "      <td>False</td>\n",
              "      <td>False</td>\n",
              "      <td>1568495452</td>\n",
              "    </tr>\n",
              "    <tr>\n",
              "      <th>1</th>\n",
              "      <td>-30.2566</td>\n",
              "      <td>-177.8124</td>\n",
              "      <td>10.00</td>\n",
              "      <td>5.1</td>\n",
              "      <td>mb</td>\n",
              "      <td>NaN</td>\n",
              "      <td>161.0</td>\n",
              "      <td>1.013</td>\n",
              "      <td>1.25</td>\n",
              "      <td>us</td>\n",
              "      <td>us70005ge6</td>\n",
              "      <td>2019-09-14T17:01:57.040Z</td>\n",
              "      <td>110km S of Raoul Island, New Zealand</td>\n",
              "      <td>earthquake</td>\n",
              "      <td>13.4</td>\n",
              "      <td>1.9</td>\n",
              "      <td>0.106</td>\n",
              "      <td>29.0</td>\n",
              "      <td>reviewed</td>\n",
              "      <td>us</td>\n",
              "      <td>us</td>\n",
              "      <td>2019</td>\n",
              "      <td>9</td>\n",
              "      <td>37</td>\n",
              "      <td>14</td>\n",
              "      <td>5</td>\n",
              "      <td>257</td>\n",
              "      <td>False</td>\n",
              "      <td>False</td>\n",
              "      <td>False</td>\n",
              "      <td>False</td>\n",
              "      <td>False</td>\n",
              "      <td>False</td>\n",
              "      <td>1568479327</td>\n",
              "    </tr>\n",
              "    <tr>\n",
              "      <th>2</th>\n",
              "      <td>-0.9714</td>\n",
              "      <td>128.5726</td>\n",
              "      <td>10.00</td>\n",
              "      <td>5.9</td>\n",
              "      <td>mww</td>\n",
              "      <td>NaN</td>\n",
              "      <td>42.0</td>\n",
              "      <td>2.110</td>\n",
              "      <td>0.78</td>\n",
              "      <td>us</td>\n",
              "      <td>us70005ge3</td>\n",
              "      <td>2019-09-14T18:23:50.032Z</td>\n",
              "      <td>108km ENE of Laiwui, Indonesia</td>\n",
              "      <td>earthquake</td>\n",
              "      <td>6.6</td>\n",
              "      <td>1.8</td>\n",
              "      <td>0.061</td>\n",
              "      <td>26.0</td>\n",
              "      <td>reviewed</td>\n",
              "      <td>us</td>\n",
              "      <td>us</td>\n",
              "      <td>2019</td>\n",
              "      <td>9</td>\n",
              "      <td>37</td>\n",
              "      <td>14</td>\n",
              "      <td>5</td>\n",
              "      <td>257</td>\n",
              "      <td>False</td>\n",
              "      <td>False</td>\n",
              "      <td>False</td>\n",
              "      <td>False</td>\n",
              "      <td>False</td>\n",
              "      <td>False</td>\n",
              "      <td>1568478088</td>\n",
              "    </tr>\n",
              "    <tr>\n",
              "      <th>3</th>\n",
              "      <td>-33.9419</td>\n",
              "      <td>-73.2487</td>\n",
              "      <td>10.00</td>\n",
              "      <td>4.7</td>\n",
              "      <td>mb</td>\n",
              "      <td>NaN</td>\n",
              "      <td>152.0</td>\n",
              "      <td>1.629</td>\n",
              "      <td>0.87</td>\n",
              "      <td>us</td>\n",
              "      <td>us70005gde</td>\n",
              "      <td>2019-09-14T15:42:21.040Z</td>\n",
              "      <td>155km WSW of San Antonio, Chile</td>\n",
              "      <td>earthquake</td>\n",
              "      <td>6.3</td>\n",
              "      <td>1.9</td>\n",
              "      <td>0.080</td>\n",
              "      <td>47.0</td>\n",
              "      <td>reviewed</td>\n",
              "      <td>us</td>\n",
              "      <td>us</td>\n",
              "      <td>2019</td>\n",
              "      <td>9</td>\n",
              "      <td>37</td>\n",
              "      <td>14</td>\n",
              "      <td>5</td>\n",
              "      <td>257</td>\n",
              "      <td>False</td>\n",
              "      <td>False</td>\n",
              "      <td>False</td>\n",
              "      <td>False</td>\n",
              "      <td>False</td>\n",
              "      <td>False</td>\n",
              "      <td>1568472052</td>\n",
              "    </tr>\n",
              "    <tr>\n",
              "      <th>4</th>\n",
              "      <td>53.9819</td>\n",
              "      <td>-165.9177</td>\n",
              "      <td>73.06</td>\n",
              "      <td>5.4</td>\n",
              "      <td>mww</td>\n",
              "      <td>NaN</td>\n",
              "      <td>49.0</td>\n",
              "      <td>0.176</td>\n",
              "      <td>1.11</td>\n",
              "      <td>us</td>\n",
              "      <td>us70005gcr</td>\n",
              "      <td>2019-09-15T01:36:03.274Z</td>\n",
              "      <td>19km SSW of Akutan, Alaska</td>\n",
              "      <td>earthquake</td>\n",
              "      <td>6.5</td>\n",
              "      <td>3.5</td>\n",
              "      <td>0.048</td>\n",
              "      <td>41.0</td>\n",
              "      <td>reviewed</td>\n",
              "      <td>us</td>\n",
              "      <td>us</td>\n",
              "      <td>2019</td>\n",
              "      <td>9</td>\n",
              "      <td>37</td>\n",
              "      <td>14</td>\n",
              "      <td>5</td>\n",
              "      <td>257</td>\n",
              "      <td>False</td>\n",
              "      <td>False</td>\n",
              "      <td>False</td>\n",
              "      <td>False</td>\n",
              "      <td>False</td>\n",
              "      <td>False</td>\n",
              "      <td>1568467555</td>\n",
              "    </tr>\n",
              "  </tbody>\n",
              "</table>\n",
              "</div>"
            ],
            "text/plain": [
              "   latitude  longitude  depth  ...  timeIs_year_end timeIs_year_start  timeElapsed\n",
              "0   54.5263   -35.1239  10.00  ...            False             False   1568495452\n",
              "1  -30.2566  -177.8124  10.00  ...            False             False   1568479327\n",
              "2   -0.9714   128.5726  10.00  ...            False             False   1568478088\n",
              "3  -33.9419   -73.2487  10.00  ...            False             False   1568472052\n",
              "4   53.9819  -165.9177  73.06  ...            False             False   1568467555\n",
              "\n",
              "[5 rows x 34 columns]"
            ]
          },
          "metadata": {
            "tags": []
          },
          "execution_count": 141
        }
      ]
    },
    {
      "cell_type": "code",
      "metadata": {
        "id": "BVjx1EKW9nOh",
        "colab_type": "code",
        "colab": {}
      },
      "source": [
        "df = df.drop('id', axis=1)\n",
        "df = df.drop('net', axis=1)\n",
        "df = df.drop('magType', axis=1)\n",
        "df = df.drop('nst', axis=1)\n",
        "df = df.drop('type', axis=1)\n",
        "df = df.drop('status', axis=1)\n",
        "df = df.drop('locationSource', axis=1)\n",
        "df = df.drop('magSource', axis=1)\n",
        "df = df.drop('updated', axis=1)\n",
        "df = df.drop('depthError', axis=1)\n",
        "df = df.drop('magError', axis=1)\n",
        "\n",
        "\n",
        "#df = df.drop('time', axis=1)"
      ],
      "execution_count": 0,
      "outputs": []
    },
    {
      "cell_type": "code",
      "metadata": {
        "id": "mdVaFyE2ZT9g",
        "colab_type": "code",
        "colab": {}
      },
      "source": [
        "df.dropna()\n",
        "df.head()"
      ],
      "execution_count": 0,
      "outputs": []
    },
    {
      "cell_type": "code",
      "metadata": {
        "id": "zFLX6d1Ya6Bf",
        "colab_type": "code",
        "colab": {}
      },
      "source": [
        "from fastai.tabular.transform import add_datepart\n",
        "add_datepart(df, 'time') # inplace\n",
        "df.head()"
      ],
      "execution_count": 0,
      "outputs": []
    },
    {
      "cell_type": "code",
      "metadata": {
        "id": "p-GgSH1lQRc3",
        "colab_type": "code",
        "colab": {}
      },
      "source": [
        "df = df.drop('time', axis=1) \t \t \t \t \t \t \t \t \t \t\n",
        "df = df.drop('timeYear', axis=1)\n",
        "df = df.drop('timeMonth', axis=1)\n",
        "df = df.drop('timeWeek', axis=1)\n",
        "df = df.drop('timeDay', axis=1)\n",
        "df = df.drop('timeDayofweek', axis=1)\n",
        "df = df.drop('timeDayofyear', axis=1)\n",
        "df = df.drop('timeIs_month_end', axis=1)\n",
        "df = df.drop('timeIs_month_start', axis=1)\n",
        "df = df.drop('timeIs_quarter_end', axis=1)\n",
        "df = df.drop('timeIs_quarter_start', axis=1)\n",
        "df = df.drop('timeIs_year_end', axis=1)\n",
        "df = df.drop('timeIs_year_start', axis=1)\n"
      ],
      "execution_count": 0,
      "outputs": []
    },
    {
      "cell_type": "code",
      "metadata": {
        "id": "CtjKoqY8J3Qr",
        "colab_type": "code",
        "colab": {}
      },
      "source": [
        "#y_train, y_test = pd.DataFrame(train.iloc[:, 8]), pd.DataFrame(test.iloc[:, 8])\n",
        "#x_train = pd.DataFrame(train.iloc[:, :8] + train.iloc[:, :8])\n",
        "#x_test = pd.DataFrame(test[['Latitude', 'Longitude']])"
      ],
      "execution_count": 0,
      "outputs": []
    },
    {
      "cell_type": "code",
      "metadata": {
        "id": "gNt-5-l8MMNv",
        "colab_type": "code",
        "colab": {}
      },
      "source": [
        "df.info()"
      ],
      "execution_count": 0,
      "outputs": []
    },
    {
      "cell_type": "code",
      "metadata": {
        "id": "MATE239ZKc2S",
        "colab_type": "code",
        "colab": {}
      },
      "source": [
        "#y = pd.DataFrame(df.iloc[:, 4])\n",
        "#x = pd.DataFrame((df.iloc[:, :4]) + (df.iloc[:, 5:8]) + (df.iloc[:, 9:]))\n",
        "#x_train, x_test, y_train, y_test = train_test_split(x, y, test_size = 0.2)\n"
      ],
      "execution_count": 0,
      "outputs": []
    },
    {
      "cell_type": "code",
      "metadata": {
        "id": "illpEjMyRO-q",
        "colab_type": "code",
        "colab": {}
      },
      "source": [
        "#df['time'] = pd.to_datetime(df['time'])"
      ],
      "execution_count": 0,
      "outputs": []
    },
    {
      "cell_type": "code",
      "metadata": {
        "id": "ets0gaDXRrCW",
        "colab_type": "code",
        "colab": {}
      },
      "source": [
        "y = pd.DataFrame(df[[\"mag\"]])\n",
        "#x = pd.DataFrame(df[[\"latitude\", \"longitude\", \"depth\", \"gap\", \"dmin\", \"rms\", \"horizontalError\", \"magNst\",  \"timeElapsed\"]])\n",
        "x = pd.DataFrame(df[[\"latitude\", \"longitude\", \"depth\", \"gap\", \"timeElapsed\"]])\n",
        "\n",
        "x_train, x_test, y_train, y_test = train_test_split(x, y, test_size = 0.2)"
      ],
      "execution_count": 0,
      "outputs": []
    },
    {
      "cell_type": "code",
      "metadata": {
        "id": "OeYKtgq8Q_LK",
        "colab_type": "code",
        "colab": {}
      },
      "source": [
        "#y = pd.DataFrame(df.iloc[:, 4])\n",
        "#x = pd.DataFrame((df.iloc[:, :4]) + (df.iloc[:, 5:]))\n",
        "#x_train, x_test, y_train, y_test = train_test_split(x, y, test_size = 0.2)\n"
      ],
      "execution_count": 0,
      "outputs": []
    },
    {
      "cell_type": "code",
      "metadata": {
        "id": "BF3VOEp7Lrue",
        "colab_type": "code",
        "colab": {}
      },
      "source": [
        "#x_train['time'] = pd.to_datetime(x_train['time'])#.dt.tz_convert('US/Eastern')\n",
        "#x_test['time']  = pd.to_datetime(x_test['time'])#.dt.tz_convert('US/Eastern')"
      ],
      "execution_count": 0,
      "outputs": []
    },
    {
      "cell_type": "code",
      "metadata": {
        "id": "Z05KagdkN1Xk",
        "colab_type": "code",
        "colab": {}
      },
      "source": [
        "x_train.head()"
      ],
      "execution_count": 0,
      "outputs": []
    },
    {
      "cell_type": "code",
      "metadata": {
        "id": "jSlcyB_lR9x9",
        "colab_type": "code",
        "colab": {}
      },
      "source": [
        "x_train['timeElapsed'].unique()"
      ],
      "execution_count": 0,
      "outputs": []
    },
    {
      "cell_type": "code",
      "metadata": {
        "id": "S7CLI2xxUGD_",
        "colab_type": "code",
        "colab": {}
      },
      "source": [
        ""
      ],
      "execution_count": 0,
      "outputs": []
    },
    {
      "cell_type": "code",
      "metadata": {
        "id": "ZRW7NEgHSgyq",
        "colab_type": "code",
        "colab": {}
      },
      "source": [
        "df = pd.Series([x_train])\n",
        "df.map({np.nan: 0})\n",
        "df = x_train.DataFrame()"
      ],
      "execution_count": 0,
      "outputs": []
    },
    {
      "cell_type": "code",
      "metadata": {
        "id": "97KGyzJaJ3VD",
        "colab_type": "code",
        "colab": {}
      },
      "source": [
        "#train_x, test, test = train_test_split(df, test_size = 0.2)"
      ],
      "execution_count": 0,
      "outputs": []
    },
    {
      "cell_type": "code",
      "metadata": {
        "id": "4s2s1aaTSrMJ",
        "colab_type": "code",
        "colab": {}
      },
      "source": [
        "x_train.info()"
      ],
      "execution_count": 0,
      "outputs": []
    },
    {
      "cell_type": "code",
      "metadata": {
        "id": "SP55V9KLQRSv",
        "colab_type": "code",
        "colab": {}
      },
      "source": [
        "d_train = xgb.DMatrix(data=x_train, label=y_train) # Everything (Train)\n",
        "d_test = xgb.DMatrix(data = x_test, label=y_test)"
      ],
      "execution_count": 0,
      "outputs": []
    },
    {
      "cell_type": "markdown",
      "metadata": {
        "id": "_4EGo49HHyJS",
        "colab_type": "text"
      },
      "source": [
        "Scikit Learn\n",
        "XGBoost\n",
        "MatPlotLib"
      ]
    },
    {
      "cell_type": "code",
      "metadata": {
        "id": "MqCvM8w-U1UP",
        "colab_type": "code",
        "colab": {}
      },
      "source": [
        "params = {'booster': 'gbtree', \n",
        "          'objective': 'single:squarrederror',\n",
        "          'colsample_bytree': 1,\n",
        "          'learning_rate': 0.2,\n",
        "          'max_depth': 4,\n",
        "          'lambda': 3,\n",
        "          'num_class': 7}\n",
        "\n",
        "\n",
        "xgb_model = xgb.train(params=params,\n",
        "                      dtrain=d_train,\n",
        "                      evals=[(d_train, 'train'), (d_test, 'eval')],\n",
        "                      num_boost_round=100)\n"
      ],
      "execution_count": 0,
      "outputs": []
    },
    {
      "cell_type": "code",
      "metadata": {
        "id": "FzxajW5bEalf",
        "colab_type": "code",
        "colab": {}
      },
      "source": [
        "model = XGBClassifier()\n",
        "model.fit(x_train, y_train)\n",
        "print(model)"
      ],
      "execution_count": 0,
      "outputs": []
    },
    {
      "cell_type": "code",
      "metadata": {
        "id": "NIFCo7clOsQn",
        "colab_type": "code",
        "colab": {}
      },
      "source": [
        "from sklearn import datasets, linear_model\n",
        "from sklearn.metrics import mean_squared_error, r2_score"
      ],
      "execution_count": 0,
      "outputs": []
    },
    {
      "cell_type": "code",
      "metadata": {
        "id": "7eb7dIseOt6-",
        "colab_type": "code",
        "colab": {}
      },
      "source": [
        "reg =  linear_model.LinearRegression()\n",
        "reg.fit(x_train, y_train)\n",
        "y_predict = regr.predict(x_test)"
      ],
      "execution_count": 0,
      "outputs": []
    },
    {
      "cell_type": "code",
      "metadata": {
        "id": "fxnAwwrrWQdg",
        "colab_type": "code",
        "colab": {}
      },
      "source": [
        "#for i in range (5):\n",
        "#  x_train[i].fillna(0, inplace=True)"
      ],
      "execution_count": 0,
      "outputs": []
    },
    {
      "cell_type": "code",
      "metadata": {
        "id": "DrbjaR9AZChD",
        "colab_type": "code",
        "colab": {}
      },
      "source": [
        "from sklearn import preprocessing\n",
        "\n",
        "x = x_train.values #returns a numpy array\n",
        "min_max_scaler = preprocessing.MinMaxScaler()\n",
        "x_scaled = min_max_scaler.fit_transform(x)\n",
        "x_train = pd.DataFrame(x_scaled)"
      ],
      "execution_count": 0,
      "outputs": []
    },
    {
      "cell_type": "code",
      "metadata": {
        "id": "D7OJW47ZZDYJ",
        "colab_type": "code",
        "colab": {}
      },
      "source": [
        "\n",
        "x = y_train.values #returns a numpy array\n",
        "min_max_scaler = preprocessing.MinMaxScaler()\n",
        "x_scaled = min_max_scaler.fit_transform(x)\n",
        "y_train = pd.DataFrame(x_scaled)"
      ],
      "execution_count": 0,
      "outputs": []
    },
    {
      "cell_type": "code",
      "metadata": {
        "id": "Sfo2xYgnZDtT",
        "colab_type": "code",
        "colab": {}
      },
      "source": [
        "from sklearn import preprocessing\n",
        "\n",
        "x = x_test.values #returns a numpy array\n",
        "min_max_scaler = preprocessing.MinMaxScaler()\n",
        "x_scaled = min_max_scaler.fit_transform(x)\n",
        "x_test = pd.DataFrame(x_scaled)"
      ],
      "execution_count": 0,
      "outputs": []
    },
    {
      "cell_type": "code",
      "metadata": {
        "id": "Q_AnJ5drVRfC",
        "colab_type": "code",
        "colab": {}
      },
      "source": [
        "from sklearn.ensemble import RandomForestClassifier\n",
        "from sklearn.datasets import make_classification"
      ],
      "execution_count": 0,
      "outputs": []
    },
    {
      "cell_type": "code",
      "metadata": {
        "id": "iDTzxNeBZD6B",
        "colab_type": "code",
        "colab": {}
      },
      "source": [
        "from sklearn import preprocessing\n",
        "\n",
        "x = y_test.values #returns a numpy array\n",
        "min_max_scaler = preprocessing.MinMaxScaler()\n",
        "x_scaled = min_max_scaler.fit_transform(x)\n",
        "y_test = pd.DataFrame(x_scaled)"
      ],
      "execution_count": 0,
      "outputs": []
    },
    {
      "cell_type": "code",
      "metadata": {
        "id": "SDs9E5nUZdfb",
        "colab_type": "code",
        "colab": {}
      },
      "source": [
        "x_train.head"
      ],
      "execution_count": 0,
      "outputs": []
    },
    {
      "cell_type": "code",
      "metadata": {
        "id": "N5PldOIAVUTM",
        "colab_type": "code",
        "colab": {}
      },
      "source": [
        "#X, y = make_classification(n_samples=1000, n_features=4,\n",
        "#                            n_informative=2, n_redundant=0,\n",
        "#                            random_state=0, shuffle=False)\n",
        "clf = RandomForestClassifier(n_estimators=100, max_depth=12,\n",
        "                             random_state=0)\n",
        "clf.fit(x_train, y_train)  \n",
        "RandomForestClassifier(bootstrap=True, class_weight=None, criterion='gini',\n",
        "            max_depth=12, max_features='auto', max_leaf_nodes=None,\n",
        "            min_impurity_decrease=0.0, min_impurity_split=None,\n",
        "            min_samples_leaf=1, min_samples_split=2,\n",
        "            min_weight_fraction_leaf=0.0, n_estimators=100, n_jobs=None,\n",
        "            oob_score=False, random_state=0, verbose=0, warm_start=False)\n",
        "print(clf.feature_importances_)"
      ],
      "execution_count": 0,
      "outputs": []
    }
  ]
}