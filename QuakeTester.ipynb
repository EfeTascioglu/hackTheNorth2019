{
  "nbformat": 4,
  "nbformat_minor": 0,
  "metadata": {
    "colab": {
      "name": "QuakeTester.ipynb",
      "version": "0.3.2",
      "provenance": [],
      "collapsed_sections": [],
      "include_colab_link": true
    },
    "kernelspec": {
      "name": "python3",
      "display_name": "Python 3"
    },
    "accelerator": "GPU"
  },
  "cells": [
    {
      "cell_type": "markdown",
      "metadata": {
        "id": "view-in-github",
        "colab_type": "text"
      },
      "source": [
        "<a href=\"https://colab.research.google.com/github/EfeTascioglu/hackTheNorth2019/blob/master/QuakeTester.ipynb\" target=\"_parent\"><img src=\"https://colab.research.google.com/assets/colab-badge.svg\" alt=\"Open In Colab\"/></a>"
      ]
    },
    {
      "cell_type": "code",
      "metadata": {
        "id": "fK7GC5sfVMF5",
        "colab_type": "code",
        "colab": {}
      },
      "source": [
        "import numpy as np\n",
        "import pandas as pd\n",
        "import xgboost as xgb\n",
        "import math\n",
        "import requests\n",
        "import datetime as dt\n",
        "from datetime import datetime\n",
        "import sklearn as sk\n",
        "from datetime import datetime"
      ],
      "execution_count": 0,
      "outputs": []
    },
    {
      "cell_type": "code",
      "metadata": {
        "id": "sNe2bCXzqpKP",
        "colab_type": "code",
        "colab": {}
      },
      "source": [
        "from sklearn.model_selection import train_test_split\n",
        "from sklearn.model_selection import KFold\n",
        "from sklearn import preprocessing\n",
        "import matplotlib.pyplot as plt\n",
        "%matplotlib inline"
      ],
      "execution_count": 0,
      "outputs": []
    },
    {
      "cell_type": "code",
      "metadata": {
        "id": "O1ivD32t7Sag",
        "colab_type": "code",
        "colab": {}
      },
      "source": [
        "!wget https://github.com/efetascioglu/hackTheNorth2019/raw/master/query1.csv"
      ],
      "execution_count": 0,
      "outputs": []
    },
    {
      "cell_type": "code",
      "metadata": {
        "id": "Q-cpzBbv8-pB",
        "colab_type": "code",
        "colab": {}
      },
      "source": [
        "df = pd.read_csv('query1.csv') # (Dataframe) "
      ],
      "execution_count": 0,
      "outputs": []
    },
    {
      "cell_type": "code",
      "metadata": {
        "id": "nsmpFHN99DVv",
        "colab_type": "code",
        "outputId": "adb1a903-814a-47dd-e325-2cad058c8b60",
        "colab": {
          "base_uri": "https://localhost:8080/",
          "height": 499
        }
      },
      "source": [
        "df.head()"
      ],
      "execution_count": 0,
      "outputs": [
        {
          "output_type": "execute_result",
          "data": {
            "text/html": [
              "<div>\n",
              "<style scoped>\n",
              "    .dataframe tbody tr th:only-of-type {\n",
              "        vertical-align: middle;\n",
              "    }\n",
              "\n",
              "    .dataframe tbody tr th {\n",
              "        vertical-align: top;\n",
              "    }\n",
              "\n",
              "    .dataframe thead th {\n",
              "        text-align: right;\n",
              "    }\n",
              "</style>\n",
              "<table border=\"1\" class=\"dataframe\">\n",
              "  <thead>\n",
              "    <tr style=\"text-align: right;\">\n",
              "      <th></th>\n",
              "      <th>time</th>\n",
              "      <th>latitude</th>\n",
              "      <th>longitude</th>\n",
              "      <th>depth</th>\n",
              "      <th>mag</th>\n",
              "      <th>magType</th>\n",
              "      <th>nst</th>\n",
              "      <th>gap</th>\n",
              "      <th>dmin</th>\n",
              "      <th>rms</th>\n",
              "      <th>net</th>\n",
              "      <th>id</th>\n",
              "      <th>updated</th>\n",
              "      <th>place</th>\n",
              "      <th>type</th>\n",
              "      <th>horizontalError</th>\n",
              "      <th>depthError</th>\n",
              "      <th>magError</th>\n",
              "      <th>magNst</th>\n",
              "      <th>status</th>\n",
              "      <th>locationSource</th>\n",
              "      <th>magSource</th>\n",
              "    </tr>\n",
              "  </thead>\n",
              "  <tbody>\n",
              "    <tr>\n",
              "      <th>0</th>\n",
              "      <td>2019-09-14T21:10:52.737Z</td>\n",
              "      <td>54.5263</td>\n",
              "      <td>-35.1239</td>\n",
              "      <td>10.00</td>\n",
              "      <td>5.0</td>\n",
              "      <td>mb</td>\n",
              "      <td>NaN</td>\n",
              "      <td>70.0</td>\n",
              "      <td>9.637</td>\n",
              "      <td>1.20</td>\n",
              "      <td>us</td>\n",
              "      <td>us70005gh4</td>\n",
              "      <td>2019-09-14T21:29:19.040Z</td>\n",
              "      <td>Reykjanes Ridge</td>\n",
              "      <td>earthquake</td>\n",
              "      <td>9.4</td>\n",
              "      <td>1.9</td>\n",
              "      <td>0.025</td>\n",
              "      <td>493.0</td>\n",
              "      <td>reviewed</td>\n",
              "      <td>us</td>\n",
              "      <td>us</td>\n",
              "    </tr>\n",
              "    <tr>\n",
              "      <th>1</th>\n",
              "      <td>2019-09-14T16:42:07.458Z</td>\n",
              "      <td>-30.2566</td>\n",
              "      <td>-177.8124</td>\n",
              "      <td>10.00</td>\n",
              "      <td>5.1</td>\n",
              "      <td>mb</td>\n",
              "      <td>NaN</td>\n",
              "      <td>161.0</td>\n",
              "      <td>1.013</td>\n",
              "      <td>1.25</td>\n",
              "      <td>us</td>\n",
              "      <td>us70005ge6</td>\n",
              "      <td>2019-09-14T17:01:57.040Z</td>\n",
              "      <td>110km S of Raoul Island, New Zealand</td>\n",
              "      <td>earthquake</td>\n",
              "      <td>13.4</td>\n",
              "      <td>1.9</td>\n",
              "      <td>0.106</td>\n",
              "      <td>29.0</td>\n",
              "      <td>reviewed</td>\n",
              "      <td>us</td>\n",
              "      <td>us</td>\n",
              "    </tr>\n",
              "    <tr>\n",
              "      <th>2</th>\n",
              "      <td>2019-09-14T16:21:28.537Z</td>\n",
              "      <td>-0.9714</td>\n",
              "      <td>128.5726</td>\n",
              "      <td>10.00</td>\n",
              "      <td>5.9</td>\n",
              "      <td>mww</td>\n",
              "      <td>NaN</td>\n",
              "      <td>42.0</td>\n",
              "      <td>2.110</td>\n",
              "      <td>0.78</td>\n",
              "      <td>us</td>\n",
              "      <td>us70005ge3</td>\n",
              "      <td>2019-09-14T18:23:50.032Z</td>\n",
              "      <td>108km ENE of Laiwui, Indonesia</td>\n",
              "      <td>earthquake</td>\n",
              "      <td>6.6</td>\n",
              "      <td>1.8</td>\n",
              "      <td>0.061</td>\n",
              "      <td>26.0</td>\n",
              "      <td>reviewed</td>\n",
              "      <td>us</td>\n",
              "      <td>us</td>\n",
              "    </tr>\n",
              "    <tr>\n",
              "      <th>3</th>\n",
              "      <td>2019-09-14T14:40:52.996Z</td>\n",
              "      <td>-33.9419</td>\n",
              "      <td>-73.2487</td>\n",
              "      <td>10.00</td>\n",
              "      <td>4.7</td>\n",
              "      <td>mb</td>\n",
              "      <td>NaN</td>\n",
              "      <td>152.0</td>\n",
              "      <td>1.629</td>\n",
              "      <td>0.87</td>\n",
              "      <td>us</td>\n",
              "      <td>us70005gde</td>\n",
              "      <td>2019-09-14T15:42:21.040Z</td>\n",
              "      <td>155km WSW of San Antonio, Chile</td>\n",
              "      <td>earthquake</td>\n",
              "      <td>6.3</td>\n",
              "      <td>1.9</td>\n",
              "      <td>0.080</td>\n",
              "      <td>47.0</td>\n",
              "      <td>reviewed</td>\n",
              "      <td>us</td>\n",
              "      <td>us</td>\n",
              "    </tr>\n",
              "    <tr>\n",
              "      <th>4</th>\n",
              "      <td>2019-09-14T13:25:55.075Z</td>\n",
              "      <td>53.9819</td>\n",
              "      <td>-165.9177</td>\n",
              "      <td>73.06</td>\n",
              "      <td>5.4</td>\n",
              "      <td>mww</td>\n",
              "      <td>NaN</td>\n",
              "      <td>49.0</td>\n",
              "      <td>0.176</td>\n",
              "      <td>1.11</td>\n",
              "      <td>us</td>\n",
              "      <td>us70005gcr</td>\n",
              "      <td>2019-09-15T01:36:03.274Z</td>\n",
              "      <td>19km SSW of Akutan, Alaska</td>\n",
              "      <td>earthquake</td>\n",
              "      <td>6.5</td>\n",
              "      <td>3.5</td>\n",
              "      <td>0.048</td>\n",
              "      <td>41.0</td>\n",
              "      <td>reviewed</td>\n",
              "      <td>us</td>\n",
              "      <td>us</td>\n",
              "    </tr>\n",
              "  </tbody>\n",
              "</table>\n",
              "</div>"
            ],
            "text/plain": [
              "                       time  latitude  ...  locationSource  magSource\n",
              "0  2019-09-14T21:10:52.737Z   54.5263  ...              us         us\n",
              "1  2019-09-14T16:42:07.458Z  -30.2566  ...              us         us\n",
              "2  2019-09-14T16:21:28.537Z   -0.9714  ...              us         us\n",
              "3  2019-09-14T14:40:52.996Z  -33.9419  ...              us         us\n",
              "4  2019-09-14T13:25:55.075Z   53.9819  ...              us         us\n",
              "\n",
              "[5 rows x 22 columns]"
            ]
          },
          "metadata": {
            "tags": []
          },
          "execution_count": 5
        }
      ]
    },
    {
      "cell_type": "code",
      "metadata": {
        "id": "BVjx1EKW9nOh",
        "colab_type": "code",
        "colab": {}
      },
      "source": [
        "df = df.drop('id', axis=1)\n",
        "df = df.drop('net', axis=1)\n",
        "df = df.drop('magType', axis=1)\n",
        "df = df.drop('nst', axis=1)\n",
        "df = df.drop('type', axis=1)\n",
        "df = df.drop('status', axis=1)\n",
        "df = df.drop('locationSource', axis=1)\n",
        "df = df.drop('magSource', axis=1)\n",
        "df = df.drop('updated', axis=1)\n",
        "df = df.drop('depthError', axis=1)\n",
        "df = df.drop('magError', axis=1)\n",
        "\n",
        "\n",
        "# df = df.drop('time', axis=1)"
      ],
      "execution_count": 0,
      "outputs": []
    },
    {
      "cell_type": "code",
      "metadata": {
        "id": "mdVaFyE2ZT9g",
        "colab_type": "code",
        "outputId": "ac536a25-ed22-4e27-c10d-0c9ccdeaa421",
        "colab": {
          "base_uri": "https://localhost:8080/",
          "height": 206
        }
      },
      "source": [
        "df.dropna()\n",
        "df.head()"
      ],
      "execution_count": 6,
      "outputs": [
        {
          "output_type": "execute_result",
          "data": {
            "text/html": [
              "<div>\n",
              "<style scoped>\n",
              "    .dataframe tbody tr th:only-of-type {\n",
              "        vertical-align: middle;\n",
              "    }\n",
              "\n",
              "    .dataframe tbody tr th {\n",
              "        vertical-align: top;\n",
              "    }\n",
              "\n",
              "    .dataframe thead th {\n",
              "        text-align: right;\n",
              "    }\n",
              "</style>\n",
              "<table border=\"1\" class=\"dataframe\">\n",
              "  <thead>\n",
              "    <tr style=\"text-align: right;\">\n",
              "      <th></th>\n",
              "      <th>time</th>\n",
              "      <th>latitude</th>\n",
              "      <th>longitude</th>\n",
              "      <th>depth</th>\n",
              "      <th>mag</th>\n",
              "      <th>gap</th>\n",
              "      <th>dmin</th>\n",
              "      <th>rms</th>\n",
              "      <th>place</th>\n",
              "      <th>horizontalError</th>\n",
              "      <th>magNst</th>\n",
              "    </tr>\n",
              "  </thead>\n",
              "  <tbody>\n",
              "    <tr>\n",
              "      <th>0</th>\n",
              "      <td>2019-09-14T21:10:52.737Z</td>\n",
              "      <td>54.5263</td>\n",
              "      <td>-35.1239</td>\n",
              "      <td>10.00</td>\n",
              "      <td>5.0</td>\n",
              "      <td>70.0</td>\n",
              "      <td>9.637</td>\n",
              "      <td>1.20</td>\n",
              "      <td>Reykjanes Ridge</td>\n",
              "      <td>9.4</td>\n",
              "      <td>493.0</td>\n",
              "    </tr>\n",
              "    <tr>\n",
              "      <th>1</th>\n",
              "      <td>2019-09-14T16:42:07.458Z</td>\n",
              "      <td>-30.2566</td>\n",
              "      <td>-177.8124</td>\n",
              "      <td>10.00</td>\n",
              "      <td>5.1</td>\n",
              "      <td>161.0</td>\n",
              "      <td>1.013</td>\n",
              "      <td>1.25</td>\n",
              "      <td>110km S of Raoul Island, New Zealand</td>\n",
              "      <td>13.4</td>\n",
              "      <td>29.0</td>\n",
              "    </tr>\n",
              "    <tr>\n",
              "      <th>2</th>\n",
              "      <td>2019-09-14T16:21:28.537Z</td>\n",
              "      <td>-0.9714</td>\n",
              "      <td>128.5726</td>\n",
              "      <td>10.00</td>\n",
              "      <td>5.9</td>\n",
              "      <td>42.0</td>\n",
              "      <td>2.110</td>\n",
              "      <td>0.78</td>\n",
              "      <td>108km ENE of Laiwui, Indonesia</td>\n",
              "      <td>6.6</td>\n",
              "      <td>26.0</td>\n",
              "    </tr>\n",
              "    <tr>\n",
              "      <th>3</th>\n",
              "      <td>2019-09-14T14:40:52.996Z</td>\n",
              "      <td>-33.9419</td>\n",
              "      <td>-73.2487</td>\n",
              "      <td>10.00</td>\n",
              "      <td>4.7</td>\n",
              "      <td>152.0</td>\n",
              "      <td>1.629</td>\n",
              "      <td>0.87</td>\n",
              "      <td>155km WSW of San Antonio, Chile</td>\n",
              "      <td>6.3</td>\n",
              "      <td>47.0</td>\n",
              "    </tr>\n",
              "    <tr>\n",
              "      <th>4</th>\n",
              "      <td>2019-09-14T13:25:55.075Z</td>\n",
              "      <td>53.9819</td>\n",
              "      <td>-165.9177</td>\n",
              "      <td>73.06</td>\n",
              "      <td>5.4</td>\n",
              "      <td>49.0</td>\n",
              "      <td>0.176</td>\n",
              "      <td>1.11</td>\n",
              "      <td>19km SSW of Akutan, Alaska</td>\n",
              "      <td>6.5</td>\n",
              "      <td>41.0</td>\n",
              "    </tr>\n",
              "  </tbody>\n",
              "</table>\n",
              "</div>"
            ],
            "text/plain": [
              "                       time  latitude  ...  horizontalError  magNst\n",
              "0  2019-09-14T21:10:52.737Z   54.5263  ...              9.4   493.0\n",
              "1  2019-09-14T16:42:07.458Z  -30.2566  ...             13.4    29.0\n",
              "2  2019-09-14T16:21:28.537Z   -0.9714  ...              6.6    26.0\n",
              "3  2019-09-14T14:40:52.996Z  -33.9419  ...              6.3    47.0\n",
              "4  2019-09-14T13:25:55.075Z   53.9819  ...              6.5    41.0\n",
              "\n",
              "[5 rows x 11 columns]"
            ]
          },
          "metadata": {
            "tags": []
          },
          "execution_count": 6
        }
      ]
    },
    {
      "cell_type": "code",
      "metadata": {
        "id": "zFLX6d1Ya6Bf",
        "colab_type": "code",
        "outputId": "1293367d-c33b-417b-9ef5-c42b4be32349",
        "colab": {
          "base_uri": "https://localhost:8080/",
          "height": 487
        }
      },
      "source": [
        "from fastai.tabular.transform import add_datepart\n",
        "add_datepart(df, 'time') # inplace\n",
        "df.head()"
      ],
      "execution_count": 25,
      "outputs": [
        {
          "output_type": "execute_result",
          "data": {
            "text/html": [
              "<div>\n",
              "<style scoped>\n",
              "    .dataframe tbody tr th:only-of-type {\n",
              "        vertical-align: middle;\n",
              "    }\n",
              "\n",
              "    .dataframe tbody tr th {\n",
              "        vertical-align: top;\n",
              "    }\n",
              "\n",
              "    .dataframe thead th {\n",
              "        text-align: right;\n",
              "    }\n",
              "</style>\n",
              "<table border=\"1\" class=\"dataframe\">\n",
              "  <thead>\n",
              "    <tr style=\"text-align: right;\">\n",
              "      <th></th>\n",
              "      <th>latitude</th>\n",
              "      <th>longitude</th>\n",
              "      <th>depth</th>\n",
              "      <th>mag</th>\n",
              "      <th>gap</th>\n",
              "      <th>dmin</th>\n",
              "      <th>rms</th>\n",
              "      <th>place</th>\n",
              "      <th>horizontalError</th>\n",
              "      <th>magNst</th>\n",
              "      <th>timeYear</th>\n",
              "      <th>timeMonth</th>\n",
              "      <th>timeWeek</th>\n",
              "      <th>timeDay</th>\n",
              "      <th>timeDayofweek</th>\n",
              "      <th>timeDayofyear</th>\n",
              "      <th>timeIs_month_end</th>\n",
              "      <th>timeIs_month_start</th>\n",
              "      <th>timeIs_quarter_end</th>\n",
              "      <th>timeIs_quarter_start</th>\n",
              "      <th>timeIs_year_end</th>\n",
              "      <th>timeIs_year_start</th>\n",
              "      <th>timeElapsed</th>\n",
              "    </tr>\n",
              "  </thead>\n",
              "  <tbody>\n",
              "    <tr>\n",
              "      <th>0</th>\n",
              "      <td>54.5263</td>\n",
              "      <td>-35.1239</td>\n",
              "      <td>10.00</td>\n",
              "      <td>5.0</td>\n",
              "      <td>70.0</td>\n",
              "      <td>9.637</td>\n",
              "      <td>1.20</td>\n",
              "      <td>Reykjanes Ridge</td>\n",
              "      <td>9.4</td>\n",
              "      <td>493.0</td>\n",
              "      <td>2019</td>\n",
              "      <td>9</td>\n",
              "      <td>37</td>\n",
              "      <td>14</td>\n",
              "      <td>5</td>\n",
              "      <td>257</td>\n",
              "      <td>False</td>\n",
              "      <td>False</td>\n",
              "      <td>False</td>\n",
              "      <td>False</td>\n",
              "      <td>False</td>\n",
              "      <td>False</td>\n",
              "      <td>1568495452</td>\n",
              "    </tr>\n",
              "    <tr>\n",
              "      <th>1</th>\n",
              "      <td>-30.2566</td>\n",
              "      <td>-177.8124</td>\n",
              "      <td>10.00</td>\n",
              "      <td>5.1</td>\n",
              "      <td>161.0</td>\n",
              "      <td>1.013</td>\n",
              "      <td>1.25</td>\n",
              "      <td>110km S of Raoul Island, New Zealand</td>\n",
              "      <td>13.4</td>\n",
              "      <td>29.0</td>\n",
              "      <td>2019</td>\n",
              "      <td>9</td>\n",
              "      <td>37</td>\n",
              "      <td>14</td>\n",
              "      <td>5</td>\n",
              "      <td>257</td>\n",
              "      <td>False</td>\n",
              "      <td>False</td>\n",
              "      <td>False</td>\n",
              "      <td>False</td>\n",
              "      <td>False</td>\n",
              "      <td>False</td>\n",
              "      <td>1568479327</td>\n",
              "    </tr>\n",
              "    <tr>\n",
              "      <th>2</th>\n",
              "      <td>-0.9714</td>\n",
              "      <td>128.5726</td>\n",
              "      <td>10.00</td>\n",
              "      <td>5.9</td>\n",
              "      <td>42.0</td>\n",
              "      <td>2.110</td>\n",
              "      <td>0.78</td>\n",
              "      <td>108km ENE of Laiwui, Indonesia</td>\n",
              "      <td>6.6</td>\n",
              "      <td>26.0</td>\n",
              "      <td>2019</td>\n",
              "      <td>9</td>\n",
              "      <td>37</td>\n",
              "      <td>14</td>\n",
              "      <td>5</td>\n",
              "      <td>257</td>\n",
              "      <td>False</td>\n",
              "      <td>False</td>\n",
              "      <td>False</td>\n",
              "      <td>False</td>\n",
              "      <td>False</td>\n",
              "      <td>False</td>\n",
              "      <td>1568478088</td>\n",
              "    </tr>\n",
              "    <tr>\n",
              "      <th>3</th>\n",
              "      <td>-33.9419</td>\n",
              "      <td>-73.2487</td>\n",
              "      <td>10.00</td>\n",
              "      <td>4.7</td>\n",
              "      <td>152.0</td>\n",
              "      <td>1.629</td>\n",
              "      <td>0.87</td>\n",
              "      <td>155km WSW of San Antonio, Chile</td>\n",
              "      <td>6.3</td>\n",
              "      <td>47.0</td>\n",
              "      <td>2019</td>\n",
              "      <td>9</td>\n",
              "      <td>37</td>\n",
              "      <td>14</td>\n",
              "      <td>5</td>\n",
              "      <td>257</td>\n",
              "      <td>False</td>\n",
              "      <td>False</td>\n",
              "      <td>False</td>\n",
              "      <td>False</td>\n",
              "      <td>False</td>\n",
              "      <td>False</td>\n",
              "      <td>1568472052</td>\n",
              "    </tr>\n",
              "    <tr>\n",
              "      <th>4</th>\n",
              "      <td>53.9819</td>\n",
              "      <td>-165.9177</td>\n",
              "      <td>73.06</td>\n",
              "      <td>5.4</td>\n",
              "      <td>49.0</td>\n",
              "      <td>0.176</td>\n",
              "      <td>1.11</td>\n",
              "      <td>19km SSW of Akutan, Alaska</td>\n",
              "      <td>6.5</td>\n",
              "      <td>41.0</td>\n",
              "      <td>2019</td>\n",
              "      <td>9</td>\n",
              "      <td>37</td>\n",
              "      <td>14</td>\n",
              "      <td>5</td>\n",
              "      <td>257</td>\n",
              "      <td>False</td>\n",
              "      <td>False</td>\n",
              "      <td>False</td>\n",
              "      <td>False</td>\n",
              "      <td>False</td>\n",
              "      <td>False</td>\n",
              "      <td>1568467555</td>\n",
              "    </tr>\n",
              "  </tbody>\n",
              "</table>\n",
              "</div>"
            ],
            "text/plain": [
              "   latitude  longitude  depth  ...  timeIs_year_end  timeIs_year_start  timeElapsed\n",
              "0   54.5263   -35.1239  10.00  ...            False              False   1568495452\n",
              "1  -30.2566  -177.8124  10.00  ...            False              False   1568479327\n",
              "2   -0.9714   128.5726  10.00  ...            False              False   1568478088\n",
              "3  -33.9419   -73.2487  10.00  ...            False              False   1568472052\n",
              "4   53.9819  -165.9177  73.06  ...            False              False   1568467555\n",
              "\n",
              "[5 rows x 23 columns]"
            ]
          },
          "metadata": {
            "tags": []
          },
          "execution_count": 25
        }
      ]
    },
    {
      "cell_type": "code",
      "metadata": {
        "id": "CtjKoqY8J3Qr",
        "colab_type": "code",
        "colab": {}
      },
      "source": [
        "#y_train, y_test = pd.DataFrame(train.iloc[:, 8]), pd.DataFrame(test.iloc[:, 8])\n",
        "#x_train = pd.DataFrame(train.iloc[:, :8] + train.iloc[:, :8])\n",
        "#x_test = pd.DataFrame(test[['Latitude', 'Longitude']])"
      ],
      "execution_count": 0,
      "outputs": []
    },
    {
      "cell_type": "code",
      "metadata": {
        "id": "gNt-5-l8MMNv",
        "colab_type": "code",
        "outputId": "5d16954a-5c4f-4b31-cbcc-d901ef1db91d",
        "colab": {
          "base_uri": "https://localhost:8080/",
          "height": 542
        }
      },
      "source": [
        "df.info()"
      ],
      "execution_count": 26,
      "outputs": [
        {
          "output_type": "stream",
          "text": [
            "<class 'pandas.core.frame.DataFrame'>\n",
            "RangeIndex: 101749 entries, 0 to 101748\n",
            "Data columns (total 23 columns):\n",
            "latitude                101749 non-null float64\n",
            "longitude               101749 non-null float64\n",
            "depth                   101749 non-null float64\n",
            "mag                     101749 non-null float64\n",
            "gap                     100196 non-null float64\n",
            "dmin                    43846 non-null float64\n",
            "rms                     97895 non-null float64\n",
            "place                   101747 non-null object\n",
            "horizontalError         36403 non-null float64\n",
            "magNst                  81688 non-null float64\n",
            "timeYear                101749 non-null int64\n",
            "timeMonth               101749 non-null int64\n",
            "timeWeek                101749 non-null int64\n",
            "timeDay                 101749 non-null int64\n",
            "timeDayofweek           101749 non-null int64\n",
            "timeDayofyear           101749 non-null int64\n",
            "timeIs_month_end        101749 non-null bool\n",
            "timeIs_month_start      101749 non-null bool\n",
            "timeIs_quarter_end      101749 non-null bool\n",
            "timeIs_quarter_start    101749 non-null bool\n",
            "timeIs_year_end         101749 non-null bool\n",
            "timeIs_year_start       101749 non-null bool\n",
            "timeElapsed             101749 non-null int64\n",
            "dtypes: bool(6), float64(9), int64(7), object(1)\n",
            "memory usage: 13.8+ MB\n"
          ],
          "name": "stdout"
        }
      ]
    },
    {
      "cell_type": "code",
      "metadata": {
        "id": "MATE239ZKc2S",
        "colab_type": "code",
        "colab": {}
      },
      "source": [
        "#y = pd.DataFrame(df.iloc[:, 4])\n",
        "#x = pd.DataFrame((df.iloc[:, :4]) + (df.iloc[:, 5:8]) + (df.iloc[:, 9:]))\n",
        "#x_train, x_test, y_train, y_test = train_test_split(x, y, test_size = 0.2)\n"
      ],
      "execution_count": 0,
      "outputs": []
    },
    {
      "cell_type": "code",
      "metadata": {
        "id": "illpEjMyRO-q",
        "colab_type": "code",
        "colab": {}
      },
      "source": [
        "#df['time'] = pd.to_datetime(df['time'])"
      ],
      "execution_count": 0,
      "outputs": []
    },
    {
      "cell_type": "code",
      "metadata": {
        "id": "ets0gaDXRrCW",
        "colab_type": "code",
        "colab": {}
      },
      "source": [
        "y = pd.DataFrame(df[[\"mag\"]])\n",
        "x = pd.DataFrame(df[[\"latitude\", \"longitude\", \"depth\", \"gap\", \"dmin\", \"rms\", \"horizontalError\", \"magNst\"]])\n",
        "x_train, x_test, y_train, y_test = train_test_split(x, y, test_size = 0.2)"
      ],
      "execution_count": 0,
      "outputs": []
    },
    {
      "cell_type": "code",
      "metadata": {
        "id": "OeYKtgq8Q_LK",
        "colab_type": "code",
        "colab": {}
      },
      "source": [
        "#y = pd.DataFrame(df.iloc[:, 4])\n",
        "#x = pd.DataFrame((df.iloc[:, :4]) + (df.iloc[:, 5:]))\n",
        "#x_train, x_test, y_train, y_test = train_test_split(x, y, test_size = 0.2)\n"
      ],
      "execution_count": 0,
      "outputs": []
    },
    {
      "cell_type": "code",
      "metadata": {
        "id": "BF3VOEp7Lrue",
        "colab_type": "code",
        "colab": {}
      },
      "source": [
        "#x_train['time'] = pd.to_datetime(x_train['time'])#.dt.tz_convert('US/Eastern')\n",
        "#x_test['time']  = pd.to_datetime(x_test['time'])#.dt.tz_convert('US/Eastern')"
      ],
      "execution_count": 0,
      "outputs": []
    },
    {
      "cell_type": "code",
      "metadata": {
        "id": "Z05KagdkN1Xk",
        "colab_type": "code",
        "outputId": "75336d45-cbaf-4ddd-d1ef-74d4c2d4b3ed",
        "colab": {
          "base_uri": "https://localhost:8080/",
          "height": 36
        }
      },
      "source": [
        "x_train.shape"
      ],
      "execution_count": 0,
      "outputs": [
        {
          "output_type": "execute_result",
          "data": {
            "text/plain": [
              "(81399, 8)"
            ]
          },
          "metadata": {
            "tags": []
          },
          "execution_count": 63
        }
      ]
    },
    {
      "cell_type": "code",
      "metadata": {
        "id": "97KGyzJaJ3VD",
        "colab_type": "code",
        "colab": {}
      },
      "source": [
        "#train_x, test, test = train_test_split(df, test_size = 0.2)"
      ],
      "execution_count": 0,
      "outputs": []
    },
    {
      "cell_type": "code",
      "metadata": {
        "id": "4s2s1aaTSrMJ",
        "colab_type": "code",
        "outputId": "e4308ae0-d16a-4c0d-e852-2d21e9077877",
        "colab": {
          "base_uri": "https://localhost:8080/",
          "height": 261
        }
      },
      "source": [
        "x_train.info()"
      ],
      "execution_count": 8,
      "outputs": [
        {
          "output_type": "stream",
          "text": [
            "<class 'pandas.core.frame.DataFrame'>\n",
            "Int64Index: 81399 entries, 62473 to 85712\n",
            "Data columns (total 8 columns):\n",
            "latitude           81399 non-null float64\n",
            "longitude          81399 non-null float64\n",
            "depth              81399 non-null float64\n",
            "gap                80155 non-null float64\n",
            "dmin               35136 non-null float64\n",
            "rms                78324 non-null float64\n",
            "horizontalError    29132 non-null float64\n",
            "magNst             65381 non-null float64\n",
            "dtypes: float64(8)\n",
            "memory usage: 5.6 MB\n"
          ],
          "name": "stdout"
        }
      ]
    },
    {
      "cell_type": "code",
      "metadata": {
        "id": "JPh2RKKHIfF9",
        "colab_type": "code",
        "colab": {}
      },
      "source": [
        "from sklearn import preprocessing\n",
        "\n",
        "x = x_train.values #returns a numpy array\n",
        "min_max_scaler = preprocessing.MinMaxScaler()\n",
        "x_scaled = min_max_scaler.fit_transform(x)\n",
        "x_train = pd.DataFrame(x_scaled)"
      ],
      "execution_count": 0,
      "outputs": []
    },
    {
      "cell_type": "code",
      "metadata": {
        "id": "J_SBDGvdJAsI",
        "colab_type": "code",
        "colab": {}
      },
      "source": [
        "x = y_train.values #returns a numpy array\n",
        "min_max_scaler = preprocessing.MinMaxScaler()\n",
        "x_scaled = min_max_scaler.fit_transform(x)\n",
        "y_train = pd.DataFrame(x_scaled)"
      ],
      "execution_count": 0,
      "outputs": []
    },
    {
      "cell_type": "code",
      "metadata": {
        "id": "Z-qkfncdJGro",
        "colab_type": "code",
        "colab": {}
      },
      "source": [
        "x = x_test.values #returns a numpy array\n",
        "min_max_scaler = preprocessing.MinMaxScaler()\n",
        "x_scaled = min_max_scaler.fit_transform(x)\n",
        "x_test = pd.DataFrame(x_scaled)"
      ],
      "execution_count": 0,
      "outputs": []
    },
    {
      "cell_type": "code",
      "metadata": {
        "id": "z_0C5WNSJMan",
        "colab_type": "code",
        "colab": {}
      },
      "source": [
        "x = y_test.values #returns a numpy array\n",
        "min_max_scaler = preprocessing.MinMaxScaler()\n",
        "x_scaled = min_max_scaler.fit_transform(x)\n",
        "y_test = pd.DataFrame(x_scaled)"
      ],
      "execution_count": 0,
      "outputs": []
    },
    {
      "cell_type": "code",
      "metadata": {
        "id": "xXT6ekcqLyxG",
        "colab_type": "code",
        "colab": {
          "base_uri": "https://localhost:8080/",
          "height": 36
        },
        "outputId": "eada4b1a-86b4-442c-c190-0c249c31efd8"
      },
      "source": [
        "x_train.shape"
      ],
      "execution_count": 40,
      "outputs": [
        {
          "output_type": "execute_result",
          "data": {
            "text/plain": [
              "(81399, 8)"
            ]
          },
          "metadata": {
            "tags": []
          },
          "execution_count": 40
        }
      ]
    },
    {
      "cell_type": "code",
      "metadata": {
        "id": "kesuMa8_SybW",
        "colab_type": "code",
        "colab": {}
      },
      "source": [
        "#x_train['time'].nanosecond"
      ],
      "execution_count": 0,
      "outputs": []
    },
    {
      "cell_type": "code",
      "metadata": {
        "id": "SP55V9KLQRSv",
        "colab_type": "code",
        "colab": {}
      },
      "source": [
        "d_train = xgb.DMatrix(data=x_train, label=y_train) # Everything (Train)\n",
        "d_test = xgb.DMatrix(data = x_test, label=y_test)"
      ],
      "execution_count": 0,
      "outputs": []
    },
    {
      "cell_type": "markdown",
      "metadata": {
        "id": "_4EGo49HHyJS",
        "colab_type": "text"
      },
      "source": [
        "Scikit Learn\n",
        "XGBoost\n",
        "MatPlotLib"
      ]
    },
    {
      "cell_type": "code",
      "metadata": {
        "id": "KJgtJd3yKYo_",
        "colab_type": "code",
        "colab": {}
      },
      "source": [
        ""
      ],
      "execution_count": 0,
      "outputs": []
    },
    {
      "cell_type": "code",
      "metadata": {
        "id": "MqCvM8w-U1UP",
        "colab_type": "code",
        "outputId": "5bf2c80c-ff67-44b3-8c2e-57f50ae26af8",
        "colab": {
          "base_uri": "https://localhost:8080/",
          "height": 613
        }
      },
      "source": [
        "params = {'booster': 'gblinear', \n",
        "          'objective': 'reg:linear',\n",
        "          'colsample_bytree': 1,\n",
        "          'learning_rate': 0.2,\n",
        "          'max_depth': 4,\n",
        "          'lambda': 3,\n",
        "          'num_class': 7}\n",
        "\n",
        "\n",
        "#xgb_model = xgb.train(params=params,\n",
        "#                      dtrain=d_train,\n",
        "#                      evals=[(d_train, 'train'), (d_test, 'eval')],\n",
        "#                      num_boost_round=100,\n",
        "#                      early_stopping_rounds=20,\n",
        "#                      verbose_eval = True)\n",
        "\n",
        "\n",
        "cv_train = xgb.cv(dtrain=d_train,\n",
        "                   params=params,\n",
        "                   nfold=10,\n",
        "                   num_boost_round=200,\n",
        "                   early_stopping_rounds=20,\n",
        "                   shuffle = True,\n",
        "                   verbose_eval = True)\n"
      ],
      "execution_count": 48,
      "outputs": [
        {
          "output_type": "stream",
          "text": [
            "[13:58:47] WARNING: /workspace/src/objective/regression_obj.cu:152: reg:linear is now deprecated in favor of reg:squarederror.\n"
          ],
          "name": "stdout"
        },
        {
          "output_type": "error",
          "ename": "XGBoostError",
          "evalue": "ignored",
          "traceback": [
            "\u001b[0;31m---------------------------------------------------------------------------\u001b[0m",
            "\u001b[0;31mXGBoostError\u001b[0m                              Traceback (most recent call last)",
            "\u001b[0;32m<ipython-input-48-b9cde4f117c1>\u001b[0m in \u001b[0;36m<module>\u001b[0;34m()\u001b[0m\n\u001b[1;32m     22\u001b[0m                    \u001b[0mearly_stopping_rounds\u001b[0m\u001b[0;34m=\u001b[0m\u001b[0;36m20\u001b[0m\u001b[0;34m,\u001b[0m\u001b[0;34m\u001b[0m\u001b[0;34m\u001b[0m\u001b[0m\n\u001b[1;32m     23\u001b[0m                    \u001b[0mshuffle\u001b[0m \u001b[0;34m=\u001b[0m \u001b[0;32mTrue\u001b[0m\u001b[0;34m,\u001b[0m\u001b[0;34m\u001b[0m\u001b[0;34m\u001b[0m\u001b[0m\n\u001b[0;32m---> 24\u001b[0;31m                    verbose_eval = True)\n\u001b[0m",
            "\u001b[0;32m/usr/local/lib/python3.6/dist-packages/xgboost/training.py\u001b[0m in \u001b[0;36mcv\u001b[0;34m(params, dtrain, num_boost_round, nfold, stratified, folds, metrics, obj, feval, maximize, early_stopping_rounds, fpreproc, as_pandas, verbose_eval, show_stdv, seed, callbacks, shuffle)\u001b[0m\n\u001b[1;32m    443\u001b[0m                            evaluation_result_list=None))\n\u001b[1;32m    444\u001b[0m         \u001b[0;32mfor\u001b[0m \u001b[0mfold\u001b[0m \u001b[0;32min\u001b[0m \u001b[0mcvfolds\u001b[0m\u001b[0;34m:\u001b[0m\u001b[0;34m\u001b[0m\u001b[0;34m\u001b[0m\u001b[0m\n\u001b[0;32m--> 445\u001b[0;31m             \u001b[0mfold\u001b[0m\u001b[0;34m.\u001b[0m\u001b[0mupdate\u001b[0m\u001b[0;34m(\u001b[0m\u001b[0mi\u001b[0m\u001b[0;34m,\u001b[0m \u001b[0mobj\u001b[0m\u001b[0;34m)\u001b[0m\u001b[0;34m\u001b[0m\u001b[0;34m\u001b[0m\u001b[0m\n\u001b[0m\u001b[1;32m    446\u001b[0m         \u001b[0mres\u001b[0m \u001b[0;34m=\u001b[0m \u001b[0maggcv\u001b[0m\u001b[0;34m(\u001b[0m\u001b[0;34m[\u001b[0m\u001b[0mf\u001b[0m\u001b[0;34m.\u001b[0m\u001b[0meval\u001b[0m\u001b[0;34m(\u001b[0m\u001b[0mi\u001b[0m\u001b[0;34m,\u001b[0m \u001b[0mfeval\u001b[0m\u001b[0;34m)\u001b[0m \u001b[0;32mfor\u001b[0m \u001b[0mf\u001b[0m \u001b[0;32min\u001b[0m \u001b[0mcvfolds\u001b[0m\u001b[0;34m]\u001b[0m\u001b[0;34m)\u001b[0m\u001b[0;34m\u001b[0m\u001b[0;34m\u001b[0m\u001b[0m\n\u001b[1;32m    447\u001b[0m \u001b[0;34m\u001b[0m\u001b[0m\n",
            "\u001b[0;32m/usr/local/lib/python3.6/dist-packages/xgboost/training.py\u001b[0m in \u001b[0;36mupdate\u001b[0;34m(self, iteration, fobj)\u001b[0m\n\u001b[1;32m    228\u001b[0m     \u001b[0;32mdef\u001b[0m \u001b[0mupdate\u001b[0m\u001b[0;34m(\u001b[0m\u001b[0mself\u001b[0m\u001b[0;34m,\u001b[0m \u001b[0miteration\u001b[0m\u001b[0;34m,\u001b[0m \u001b[0mfobj\u001b[0m\u001b[0;34m)\u001b[0m\u001b[0;34m:\u001b[0m\u001b[0;34m\u001b[0m\u001b[0;34m\u001b[0m\u001b[0m\n\u001b[1;32m    229\u001b[0m         \u001b[0;34m\"\"\"\"Update the boosters for one iteration\"\"\"\u001b[0m\u001b[0;34m\u001b[0m\u001b[0;34m\u001b[0m\u001b[0m\n\u001b[0;32m--> 230\u001b[0;31m         \u001b[0mself\u001b[0m\u001b[0;34m.\u001b[0m\u001b[0mbst\u001b[0m\u001b[0;34m.\u001b[0m\u001b[0mupdate\u001b[0m\u001b[0;34m(\u001b[0m\u001b[0mself\u001b[0m\u001b[0;34m.\u001b[0m\u001b[0mdtrain\u001b[0m\u001b[0;34m,\u001b[0m \u001b[0miteration\u001b[0m\u001b[0;34m,\u001b[0m \u001b[0mfobj\u001b[0m\u001b[0;34m)\u001b[0m\u001b[0;34m\u001b[0m\u001b[0;34m\u001b[0m\u001b[0m\n\u001b[0m\u001b[1;32m    231\u001b[0m \u001b[0;34m\u001b[0m\u001b[0m\n\u001b[1;32m    232\u001b[0m     \u001b[0;32mdef\u001b[0m \u001b[0meval\u001b[0m\u001b[0;34m(\u001b[0m\u001b[0mself\u001b[0m\u001b[0;34m,\u001b[0m \u001b[0miteration\u001b[0m\u001b[0;34m,\u001b[0m \u001b[0mfeval\u001b[0m\u001b[0;34m)\u001b[0m\u001b[0;34m:\u001b[0m\u001b[0;34m\u001b[0m\u001b[0;34m\u001b[0m\u001b[0m\n",
            "\u001b[0;32m/usr/local/lib/python3.6/dist-packages/xgboost/core.py\u001b[0m in \u001b[0;36mupdate\u001b[0;34m(self, dtrain, iteration, fobj)\u001b[0m\n\u001b[1;32m   1107\u001b[0m         \u001b[0;32mif\u001b[0m \u001b[0mfobj\u001b[0m \u001b[0;32mis\u001b[0m \u001b[0;32mNone\u001b[0m\u001b[0;34m:\u001b[0m\u001b[0;34m\u001b[0m\u001b[0;34m\u001b[0m\u001b[0m\n\u001b[1;32m   1108\u001b[0m             _check_call(_LIB.XGBoosterUpdateOneIter(self.handle, ctypes.c_int(iteration),\n\u001b[0;32m-> 1109\u001b[0;31m                                                     dtrain.handle))\n\u001b[0m\u001b[1;32m   1110\u001b[0m         \u001b[0;32melse\u001b[0m\u001b[0;34m:\u001b[0m\u001b[0;34m\u001b[0m\u001b[0;34m\u001b[0m\u001b[0m\n\u001b[1;32m   1111\u001b[0m             \u001b[0mpred\u001b[0m \u001b[0;34m=\u001b[0m \u001b[0mself\u001b[0m\u001b[0;34m.\u001b[0m\u001b[0mpredict\u001b[0m\u001b[0;34m(\u001b[0m\u001b[0mdtrain\u001b[0m\u001b[0;34m)\u001b[0m\u001b[0;34m\u001b[0m\u001b[0;34m\u001b[0m\u001b[0m\n",
            "\u001b[0;32m/usr/local/lib/python3.6/dist-packages/xgboost/core.py\u001b[0m in \u001b[0;36m_check_call\u001b[0;34m(ret)\u001b[0m\n\u001b[1;32m    174\u001b[0m     \"\"\"\n\u001b[1;32m    175\u001b[0m     \u001b[0;32mif\u001b[0m \u001b[0mret\u001b[0m \u001b[0;34m!=\u001b[0m \u001b[0;36m0\u001b[0m\u001b[0;34m:\u001b[0m\u001b[0;34m\u001b[0m\u001b[0;34m\u001b[0m\u001b[0m\n\u001b[0;32m--> 176\u001b[0;31m         \u001b[0;32mraise\u001b[0m \u001b[0mXGBoostError\u001b[0m\u001b[0;34m(\u001b[0m\u001b[0mpy_str\u001b[0m\u001b[0;34m(\u001b[0m\u001b[0m_LIB\u001b[0m\u001b[0;34m.\u001b[0m\u001b[0mXGBGetLastError\u001b[0m\u001b[0;34m(\u001b[0m\u001b[0;34m)\u001b[0m\u001b[0;34m)\u001b[0m\u001b[0;34m)\u001b[0m\u001b[0;34m\u001b[0m\u001b[0;34m\u001b[0m\u001b[0m\n\u001b[0m\u001b[1;32m    177\u001b[0m \u001b[0;34m\u001b[0m\u001b[0m\n\u001b[1;32m    178\u001b[0m \u001b[0;34m\u001b[0m\u001b[0m\n",
            "\u001b[0;31mXGBoostError\u001b[0m: [13:58:47] /workspace/src/objective/regression_obj.cu:65: Check failed: preds.Size() == info.labels_.Size() (512813 vs. 73259) : labels are not correctly providedpreds.size=512813, label.size=73259\nStack trace:\n  [bt] (0) /usr/local/lib/python3.6/dist-packages/xgboost/./lib/libxgboost.so(dmlc::LogMessageFatal::~LogMessageFatal()+0x24) [0x7fbf3c438cb4]\n  [bt] (1) /usr/local/lib/python3.6/dist-packages/xgboost/./lib/libxgboost.so(xgboost::obj::RegLossObj<xgboost::obj::LinearSquareLoss>::GetGradient(xgboost::HostDeviceVector<float> const&, xgboost::MetaInfo const&, int, xgboost::HostDeviceVector<xgboost::detail::GradientPairInternal<float> >*)+0x21e) [0x7fbf3c64384e]\n  [bt] (2) /usr/local/lib/python3.6/dist-packages/xgboost/./lib/libxgboost.so(xgboost::LearnerImpl::UpdateOneIter(int, xgboost::DMatrix*)+0x345) [0x7fbf3c4d2505]\n  [bt] (3) /usr/local/lib/python3.6/dist-packages/xgboost/./lib/libxgboost.so(XGBoosterUpdateOneIter+0x35) [0x7fbf3c435aa5]\n  [bt] (4) /usr/lib/x86_64-linux-gnu/libffi.so.6(ffi_call_unix64+0x4c) [0x7fbf6e607dae]\n  [bt] (5) /usr/lib/x86_64-linux-gnu/libffi.so.6(ffi_call+0x22f) [0x7fbf6e60771f]\n  [bt] (6) /usr/lib/python3.6/lib-dynload/_ctypes.cpython-36m-x86_64-linux-gnu.so(_ctypes_callproc+0x2b4) [0x7fbf6e81bc64]\n  [bt] (7) /usr/lib/python3.6/lib-dynload/_ctypes.cpython-36m-x86_64-linux-gnu.so(+0x122e3) [0x7fbf6e81c2e3]\n  [bt] (8) /usr/bin/python3(_PyObject_FastCallKeywords+0x19c) [0x57ec0c]\n\n"
          ]
        }
      ]
    },
    {
      "cell_type": "code",
      "metadata": {
        "id": "IaqSn-NiLnoY",
        "colab_type": "code",
        "colab": {
          "base_uri": "https://localhost:8080/",
          "height": 386
        },
        "outputId": "0d12278c-2113-4215-8ef7-200822e82a09"
      },
      "source": [
        "xgbData = xgb.XGBRegressor(colsample_bytree=0.8, subsample=0.5,\n",
        "                             learning_rate=0.05, max_depth=3, \n",
        "                             min_child_weight=1.8, n_estimators=2000,\n",
        "                             reg_alpha=0.1, reg_lambda=0.3, gamma=0.01, \n",
        "                             silent=1, random_state =7, nthread = -1)\n",
        "\n",
        "xgb_model = xgb.train(params=xgbData,\n",
        "                      dtrain=d_train,\n",
        "                      evals=[(d_train, 'train'), (d_test, 'eval')],\n",
        "                      num_boost_round=100,\n",
        "                      early_stopping_rounds=20,\n",
        "                      verbose_eval = True\n",
        "                      )"
      ],
      "execution_count": 27,
      "outputs": [
        {
          "output_type": "error",
          "ename": "TypeError",
          "evalue": "ignored",
          "traceback": [
            "\u001b[0;31m---------------------------------------------------------------------------\u001b[0m",
            "\u001b[0;31mTypeError\u001b[0m                                 Traceback (most recent call last)",
            "\u001b[0;32m<ipython-input-27-f6fb238305be>\u001b[0m in \u001b[0;36m<module>\u001b[0;34m()\u001b[0m\n\u001b[1;32m     10\u001b[0m                       \u001b[0mnum_boost_round\u001b[0m\u001b[0;34m=\u001b[0m\u001b[0;36m100\u001b[0m\u001b[0;34m,\u001b[0m\u001b[0;34m\u001b[0m\u001b[0;34m\u001b[0m\u001b[0m\n\u001b[1;32m     11\u001b[0m                       \u001b[0mearly_stopping_rounds\u001b[0m\u001b[0;34m=\u001b[0m\u001b[0;36m20\u001b[0m\u001b[0;34m,\u001b[0m\u001b[0;34m\u001b[0m\u001b[0;34m\u001b[0m\u001b[0m\n\u001b[0;32m---> 12\u001b[0;31m                       \u001b[0mverbose_eval\u001b[0m \u001b[0;34m=\u001b[0m \u001b[0;32mTrue\u001b[0m\u001b[0;34m\u001b[0m\u001b[0;34m\u001b[0m\u001b[0m\n\u001b[0m\u001b[1;32m     13\u001b[0m                       )\n",
            "\u001b[0;32m/usr/local/lib/python3.6/dist-packages/xgboost/training.py\u001b[0m in \u001b[0;36mtrain\u001b[0;34m(params, dtrain, num_boost_round, evals, obj, feval, maximize, early_stopping_rounds, evals_result, verbose_eval, xgb_model, callbacks, learning_rates)\u001b[0m\n\u001b[1;32m    214\u001b[0m                            \u001b[0mevals\u001b[0m\u001b[0;34m=\u001b[0m\u001b[0mevals\u001b[0m\u001b[0;34m,\u001b[0m\u001b[0;34m\u001b[0m\u001b[0;34m\u001b[0m\u001b[0m\n\u001b[1;32m    215\u001b[0m                            \u001b[0mobj\u001b[0m\u001b[0;34m=\u001b[0m\u001b[0mobj\u001b[0m\u001b[0;34m,\u001b[0m \u001b[0mfeval\u001b[0m\u001b[0;34m=\u001b[0m\u001b[0mfeval\u001b[0m\u001b[0;34m,\u001b[0m\u001b[0;34m\u001b[0m\u001b[0;34m\u001b[0m\u001b[0m\n\u001b[0;32m--> 216\u001b[0;31m                            xgb_model=xgb_model, callbacks=callbacks)\n\u001b[0m\u001b[1;32m    217\u001b[0m \u001b[0;34m\u001b[0m\u001b[0m\n\u001b[1;32m    218\u001b[0m \u001b[0;34m\u001b[0m\u001b[0m\n",
            "\u001b[0;32m/usr/local/lib/python3.6/dist-packages/xgboost/training.py\u001b[0m in \u001b[0;36m_train_internal\u001b[0;34m(params, dtrain, num_boost_round, evals, obj, feval, xgb_model, callbacks)\u001b[0m\n\u001b[1;32m     30\u001b[0m             \u001b[0mparams\u001b[0m \u001b[0;34m+=\u001b[0m \u001b[0;34m[\u001b[0m\u001b[0;34m(\u001b[0m\u001b[0;34m'eval_metric'\u001b[0m\u001b[0;34m,\u001b[0m \u001b[0meval_metric\u001b[0m\u001b[0;34m)\u001b[0m\u001b[0;34m]\u001b[0m\u001b[0;34m\u001b[0m\u001b[0;34m\u001b[0m\u001b[0m\n\u001b[1;32m     31\u001b[0m \u001b[0;34m\u001b[0m\u001b[0m\n\u001b[0;32m---> 32\u001b[0;31m     \u001b[0mbst\u001b[0m \u001b[0;34m=\u001b[0m \u001b[0mBooster\u001b[0m\u001b[0;34m(\u001b[0m\u001b[0mparams\u001b[0m\u001b[0;34m,\u001b[0m \u001b[0;34m[\u001b[0m\u001b[0mdtrain\u001b[0m\u001b[0;34m]\u001b[0m \u001b[0;34m+\u001b[0m \u001b[0;34m[\u001b[0m\u001b[0md\u001b[0m\u001b[0;34m[\u001b[0m\u001b[0;36m0\u001b[0m\u001b[0;34m]\u001b[0m \u001b[0;32mfor\u001b[0m \u001b[0md\u001b[0m \u001b[0;32min\u001b[0m \u001b[0mevals\u001b[0m\u001b[0;34m]\u001b[0m\u001b[0;34m)\u001b[0m\u001b[0;34m\u001b[0m\u001b[0;34m\u001b[0m\u001b[0m\n\u001b[0m\u001b[1;32m     33\u001b[0m     \u001b[0mnboost\u001b[0m \u001b[0;34m=\u001b[0m \u001b[0;36m0\u001b[0m\u001b[0;34m\u001b[0m\u001b[0;34m\u001b[0m\u001b[0m\n\u001b[1;32m     34\u001b[0m     \u001b[0mnum_parallel_tree\u001b[0m \u001b[0;34m=\u001b[0m \u001b[0;36m1\u001b[0m\u001b[0;34m\u001b[0m\u001b[0;34m\u001b[0m\u001b[0m\n",
            "\u001b[0;32m/usr/local/lib/python3.6/dist-packages/xgboost/core.py\u001b[0m in \u001b[0;36m__init__\u001b[0;34m(self, params, cache, model_file)\u001b[0m\n\u001b[1;32m    946\u001b[0m                                          ctypes.byref(self.handle)))\n\u001b[1;32m    947\u001b[0m         \u001b[0mself\u001b[0m\u001b[0;34m.\u001b[0m\u001b[0mset_param\u001b[0m\u001b[0;34m(\u001b[0m\u001b[0;34m{\u001b[0m\u001b[0;34m'seed'\u001b[0m\u001b[0;34m:\u001b[0m \u001b[0;36m0\u001b[0m\u001b[0;34m}\u001b[0m\u001b[0;34m)\u001b[0m\u001b[0;34m\u001b[0m\u001b[0;34m\u001b[0m\u001b[0m\n\u001b[0;32m--> 948\u001b[0;31m         \u001b[0mself\u001b[0m\u001b[0;34m.\u001b[0m\u001b[0mset_param\u001b[0m\u001b[0;34m(\u001b[0m\u001b[0mparams\u001b[0m \u001b[0;32mor\u001b[0m \u001b[0;34m{\u001b[0m\u001b[0;34m}\u001b[0m\u001b[0;34m)\u001b[0m\u001b[0;34m\u001b[0m\u001b[0;34m\u001b[0m\u001b[0m\n\u001b[0m\u001b[1;32m    949\u001b[0m         \u001b[0;32mif\u001b[0m \u001b[0;34m(\u001b[0m\u001b[0mparams\u001b[0m \u001b[0;32mis\u001b[0m \u001b[0;32mnot\u001b[0m \u001b[0;32mNone\u001b[0m\u001b[0;34m)\u001b[0m \u001b[0;32mand\u001b[0m \u001b[0;34m(\u001b[0m\u001b[0;34m'booster'\u001b[0m \u001b[0;32min\u001b[0m \u001b[0mparams\u001b[0m\u001b[0;34m)\u001b[0m\u001b[0;34m:\u001b[0m\u001b[0;34m\u001b[0m\u001b[0;34m\u001b[0m\u001b[0m\n\u001b[1;32m    950\u001b[0m             \u001b[0mself\u001b[0m\u001b[0;34m.\u001b[0m\u001b[0mbooster\u001b[0m \u001b[0;34m=\u001b[0m \u001b[0mparams\u001b[0m\u001b[0;34m[\u001b[0m\u001b[0;34m'booster'\u001b[0m\u001b[0;34m]\u001b[0m\u001b[0;34m\u001b[0m\u001b[0;34m\u001b[0m\u001b[0m\n",
            "\u001b[0;32m/usr/local/lib/python3.6/dist-packages/xgboost/core.py\u001b[0m in \u001b[0;36mset_param\u001b[0;34m(self, params, value)\u001b[0m\n\u001b[1;32m   1084\u001b[0m         \u001b[0;32melif\u001b[0m \u001b[0misinstance\u001b[0m\u001b[0;34m(\u001b[0m\u001b[0mparams\u001b[0m\u001b[0;34m,\u001b[0m \u001b[0mSTRING_TYPES\u001b[0m\u001b[0;34m)\u001b[0m \u001b[0;32mand\u001b[0m \u001b[0mvalue\u001b[0m \u001b[0;32mis\u001b[0m \u001b[0;32mnot\u001b[0m \u001b[0;32mNone\u001b[0m\u001b[0;34m:\u001b[0m\u001b[0;34m\u001b[0m\u001b[0;34m\u001b[0m\u001b[0m\n\u001b[1;32m   1085\u001b[0m             \u001b[0mparams\u001b[0m \u001b[0;34m=\u001b[0m \u001b[0;34m[\u001b[0m\u001b[0;34m(\u001b[0m\u001b[0mparams\u001b[0m\u001b[0;34m,\u001b[0m \u001b[0mvalue\u001b[0m\u001b[0;34m)\u001b[0m\u001b[0;34m]\u001b[0m\u001b[0;34m\u001b[0m\u001b[0;34m\u001b[0m\u001b[0m\n\u001b[0;32m-> 1086\u001b[0;31m         \u001b[0;32mfor\u001b[0m \u001b[0mkey\u001b[0m\u001b[0;34m,\u001b[0m \u001b[0mval\u001b[0m \u001b[0;32min\u001b[0m \u001b[0mparams\u001b[0m\u001b[0;34m:\u001b[0m\u001b[0;34m\u001b[0m\u001b[0;34m\u001b[0m\u001b[0m\n\u001b[0m\u001b[1;32m   1087\u001b[0m             \u001b[0m_check_call\u001b[0m\u001b[0;34m(\u001b[0m\u001b[0m_LIB\u001b[0m\u001b[0;34m.\u001b[0m\u001b[0mXGBoosterSetParam\u001b[0m\u001b[0;34m(\u001b[0m\u001b[0mself\u001b[0m\u001b[0;34m.\u001b[0m\u001b[0mhandle\u001b[0m\u001b[0;34m,\u001b[0m \u001b[0mc_str\u001b[0m\u001b[0;34m(\u001b[0m\u001b[0mkey\u001b[0m\u001b[0;34m)\u001b[0m\u001b[0;34m,\u001b[0m \u001b[0mc_str\u001b[0m\u001b[0;34m(\u001b[0m\u001b[0mstr\u001b[0m\u001b[0;34m(\u001b[0m\u001b[0mval\u001b[0m\u001b[0;34m)\u001b[0m\u001b[0;34m)\u001b[0m\u001b[0;34m)\u001b[0m\u001b[0;34m)\u001b[0m\u001b[0;34m\u001b[0m\u001b[0;34m\u001b[0m\u001b[0m\n\u001b[1;32m   1088\u001b[0m \u001b[0;34m\u001b[0m\u001b[0m\n",
            "\u001b[0;31mTypeError\u001b[0m: 'XGBRegressor' object is not iterable"
          ]
        }
      ]
    },
    {
      "cell_type": "code",
      "metadata": {
        "id": "ukTfcebrLEWn",
        "colab_type": "code",
        "colab": {
          "base_uri": "https://localhost:8080/",
          "height": 148
        },
        "outputId": "4a80a70b-0454-44e7-caca-13ed7eab5017"
      },
      "source": [
        "xgbData = xgb.XGBRegressor(colsample_bytree=0.8, subsample=0.5,\n",
        "                             learning_rate=0.05, max_depth=3, \n",
        "                             min_child_weight=1.8, n_estimators=2000,\n",
        "                             reg_alpha=0.1, reg_lambda=0.3, gamma=0.01, \n",
        "                             silent=1, random_state =7, nthread = -1)\n",
        "\n",
        "\n",
        "xgbData.fit(x_train, y_train)"
      ],
      "execution_count": 23,
      "outputs": [
        {
          "output_type": "execute_result",
          "data": {
            "text/plain": [
              "XGBRegressor(base_score=0.5, booster='gbtree', colsample_bylevel=1,\n",
              "             colsample_bynode=1, colsample_bytree=0.8, gamma=0.01,\n",
              "             importance_type='gain', learning_rate=0.05, max_delta_step=0,\n",
              "             max_depth=3, min_child_weight=1.8, missing=None, n_estimators=2000,\n",
              "             n_jobs=1, nthread=-1, objective='reg:linear', random_state=7,\n",
              "             reg_alpha=0.1, reg_lambda=0.3, scale_pos_weight=1, seed=None,\n",
              "             silent=1, subsample=0.5, verbosity=1)"
            ]
          },
          "metadata": {
            "tags": []
          },
          "execution_count": 23
        }
      ]
    },
    {
      "cell_type": "code",
      "metadata": {
        "id": "FzxajW5bEalf",
        "colab_type": "code",
        "colab": {}
      },
      "source": [
        "xgdmat=xgb.DMatrix(x_train,y_train)\n",
        "our_params={'eta':0.1,'seed':0,'subsample':0.8,'colsample_bytree':0.8,'objective':'reg:linear','max_depth':4,'min_child_weight':1}\n",
        "final_gb=xgb.train(our_params,xgdmat)\n",
        "tesdmat=xgb.DMatrix(X_test)\n",
        "y_pred=final_gb.predict(tesdmat)\n",
        "print(y_pred)"
      ],
      "execution_count": 0,
      "outputs": []
    }
  ]
}