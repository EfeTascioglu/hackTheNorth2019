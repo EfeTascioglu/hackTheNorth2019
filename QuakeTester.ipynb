{
  "nbformat": 4,
  "nbformat_minor": 0,
  "metadata": {
    "colab": {
      "name": "QuakeTester.ipynb",
      "version": "0.3.2",
      "provenance": [],
      "include_colab_link": true
    },
    "kernelspec": {
      "name": "python3",
      "display_name": "Python 3"
    }
  },
  "cells": [
    {
      "cell_type": "markdown",
      "metadata": {
        "id": "view-in-github",
        "colab_type": "text"
      },
      "source": [
        "<a href=\"https://colab.research.google.com/github/EfeTascioglu/hackTheNorth2019/blob/master/QuakeTester.ipynb\" target=\"_parent\"><img src=\"https://colab.research.google.com/assets/colab-badge.svg\" alt=\"Open In Colab\"/></a>"
      ]
    },
    {
      "cell_type": "code",
      "metadata": {
        "id": "fK7GC5sfVMF5",
        "colab_type": "code",
        "colab": {}
      },
      "source": [
        "import numpy as np\n",
        "import pandas as pd\n",
        "import xgboost as xgb\n",
        "import math\n",
        "import requests\n",
        "import datetime as dt\n",
        "from datetime import datetime\n",
        "import sklearn as sk\n",
        "from datetime import datetime"
      ],
      "execution_count": 0,
      "outputs": []
    },
    {
      "cell_type": "code",
      "metadata": {
        "id": "sNe2bCXzqpKP",
        "colab_type": "code",
        "colab": {}
      },
      "source": [
        "from sklearn.model_selection import train_test_split\n",
        "from sklearn.model_selection import KFold\n",
        "from sklearn import preprocessing\n",
        "import matplotlib.pyplot as plt\n",
        "%matplotlib inline"
      ],
      "execution_count": 0,
      "outputs": []
    },
    {
      "cell_type": "code",
      "metadata": {
        "id": "O1ivD32t7Sag",
        "colab_type": "code",
        "colab": {
          "base_uri": "https://localhost:8080/",
          "height": 317
        },
        "outputId": "fe177bc2-d513-4ef7-ba73-3078c33fbb45"
      },
      "source": [
        "!wget https://github.com/efetascioglu/hackTheNorth2019/raw/master/query1.csv"
      ],
      "execution_count": 4,
      "outputs": [
        {
          "output_type": "stream",
          "text": [
            "--2019-09-15 03:20:18--  https://github.com/efetascioglu/hackTheNorth2019/raw/master/query1.csv\n",
            "Resolving github.com (github.com)... 140.82.113.4\n",
            "Connecting to github.com (github.com)|140.82.113.4|:443... connected.\n",
            "HTTP request sent, awaiting response... 302 Found\n",
            "Location: https://raw.githubusercontent.com/efetascioglu/hackTheNorth2019/master/query1.csv [following]\n",
            "--2019-09-15 03:20:18--  https://raw.githubusercontent.com/efetascioglu/hackTheNorth2019/master/query1.csv\n",
            "Resolving raw.githubusercontent.com (raw.githubusercontent.com)... 151.101.0.133, 151.101.64.133, 151.101.128.133, ...\n",
            "Connecting to raw.githubusercontent.com (raw.githubusercontent.com)|151.101.0.133|:443... connected.\n",
            "HTTP request sent, awaiting response... 200 OK\n",
            "Length: 17498761 (17M) [text/plain]\n",
            "Saving to: ‘query1.csv’\n",
            "\n",
            "query1.csv          100%[===================>]  16.69M  84.7MB/s    in 0.2s    \n",
            "\n",
            "2019-09-15 03:20:18 (84.7 MB/s) - ‘query1.csv’ saved [17498761/17498761]\n",
            "\n"
          ],
          "name": "stdout"
        }
      ]
    }
  ]
}